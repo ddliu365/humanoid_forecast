{
 "cells": [
  {
   "cell_type": "code",
   "execution_count": 22,
   "id": "eab7980d-e459-4da4-a0d9-a193f9998393",
   "metadata": {},
   "outputs": [],
   "source": [
    "import numpy as np"
   ]
  },
  {
   "cell_type": "code",
   "execution_count": 23,
   "id": "fd05a759-e1e9-4653-9715-e568c550bd52",
   "metadata": {},
   "outputs": [],
   "source": [
    "mu, sigma = 0, 0.1 # mean and standard deviation\n",
    "\n",
    "s = np.random.normal(mu, sigma, 1)"
   ]
  },
  {
   "cell_type": "code",
   "execution_count": 24,
   "id": "af4d1694-2c44-477e-b62d-4a49c83e7dd0",
   "metadata": {},
   "outputs": [
    {
     "data": {
      "text/plain": [
       "array([0.06800126])"
      ]
     },
     "execution_count": 24,
     "metadata": {},
     "output_type": "execute_result"
    }
   ],
   "source": [
    "s"
   ]
  },
  {
   "cell_type": "code",
   "execution_count": 25,
   "id": "8a406e5d-7677-49ae-b7a6-2333c01bfbb3",
   "metadata": {},
   "outputs": [],
   "source": [
    "x = np.zeros([3,3 ])"
   ]
  },
  {
   "cell_type": "code",
   "execution_count": 26,
   "id": "efa78d1a-0abf-40a2-a4ca-6ec66026ce4d",
   "metadata": {},
   "outputs": [],
   "source": [
    "np.savetxt('x.csv', x, delimiter=',', header='x, y, z')"
   ]
  },
  {
   "cell_type": "code",
   "execution_count": 27,
   "id": "90452339-27bf-4ca8-a355-383ce1c2056b",
   "metadata": {},
   "outputs": [
    {
     "data": {
      "text/plain": [
       "array([[0., 0., 0.],\n",
       "       [0., 0., 0.],\n",
       "       [0., 0., 0.]])"
      ]
     },
     "execution_count": 27,
     "metadata": {},
     "output_type": "execute_result"
    }
   ],
   "source": [
    "x"
   ]
  },
  {
   "cell_type": "code",
   "execution_count": null,
   "id": "e96ee022-75a1-46b1-b247-5817bbbda3fb",
   "metadata": {},
   "outputs": [],
   "source": []
  }
 ],
 "metadata": {
  "kernelspec": {
   "display_name": "Python 3 (ipykernel)",
   "language": "python",
   "name": "python3"
  },
  "language_info": {
   "codemirror_mode": {
    "name": "ipython",
    "version": 3
   },
   "file_extension": ".py",
   "mimetype": "text/x-python",
   "name": "python",
   "nbconvert_exporter": "python",
   "pygments_lexer": "ipython3",
   "version": "3.8.10"
  }
 },
 "nbformat": 4,
 "nbformat_minor": 5
}
